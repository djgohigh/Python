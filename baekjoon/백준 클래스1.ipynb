{
 "cells": [
  {
   "cell_type": "code",
   "execution_count": 14,
   "id": "09086d86",
   "metadata": {
    "scrolled": false
   },
   "outputs": [
    {
     "name": "stdout",
     "output_type": "stream",
     "text": [
      "5\n",
      "    *\n",
      "   **\n",
      "  ***\n",
      " ****\n",
      "*****\n"
     ]
    }
   ],
   "source": [
    "# 2439\n",
    "cnt_input = int(input())\n",
    "\n",
    "for i in range (0, cnt_input) :\n",
    "    for j in range (0, cnt_input-i-1):\n",
    "        print(end=\" \")\n",
    "    for j in range (0, i+1):\n",
    "        print(\"*\", end=\"\")\n",
    "    print(end=\"\\n\")"
   ]
  },
  {
   "cell_type": "code",
   "execution_count": 20,
   "id": "55e5a494",
   "metadata": {},
   "outputs": [
    {
     "name": "stdout",
     "output_type": "stream",
     "text": [
      "0 4 2 5 6\n",
      "1\n"
     ]
    }
   ],
   "source": [
    "# 2475\n",
    "num1, num2, num3, num4, num5 = map(int, input().split())\n",
    "\n",
    "ver = (num1**2 + num2**2 + num3**2 + num4**2 + num5**2)%10\n",
    "\n",
    "print(ver)"
   ]
  },
  {
   "cell_type": "code",
   "execution_count": 21,
   "id": "492b2ad0",
   "metadata": {},
   "outputs": [
    {
     "name": "stdout",
     "output_type": "stream",
     "text": [
      "Hello World!\n"
     ]
    }
   ],
   "source": [
    "# 2557\n",
    "print(\"Hello World!\")"
   ]
  },
  {
   "cell_type": "code",
   "execution_count": 43,
   "id": "f5c8c7b5",
   "metadata": {
    "scrolled": false
   },
   "outputs": [
    {
     "name": "stdout",
     "output_type": "stream",
     "text": [
      "1\n",
      "3\n",
      "5\n",
      "7\n",
      "9\n",
      "2\n",
      "4\n",
      "6\n",
      "8\n",
      "9\n",
      "5\n"
     ]
    }
   ],
   "source": [
    "# 2562\n",
    "num_list = []\n",
    "\n",
    "for i in range(0, 9) :\n",
    "    num_list.append(int(input()))\n",
    "    \n",
    "max_num = max(num_list)\n",
    "max_idx = num_list.index(max_num)+1\n",
    "\n",
    "print(max_num)\n",
    "print(max_idx)"
   ]
  },
  {
   "cell_type": "code",
   "execution_count": 44,
   "id": "26fdeb85",
   "metadata": {},
   "outputs": [
    {
     "name": "stdout",
     "output_type": "stream",
     "text": [
      "oreo\n",
      "O\n"
     ]
    }
   ],
   "source": [
    "# 1157\n",
    "words = input().upper()\n",
    "unique_words = list(set(words))\n",
    "\n",
    "cnt_list = []\n",
    "\n",
    "for i in unique_words :\n",
    "    cnt = words.count(i)\n",
    "    cnt_list.append(cnt)\n",
    "\n",
    "if cnt_list.count(max(cnt_list)) > 1:\n",
    "   print(\"?\")\n",
    "else :\n",
    "   max_index = cnt_list.index(max(cnt_list))\n",
    "   print(unique_words[max_index])"
   ]
  },
  {
   "cell_type": "code",
   "execution_count": 45,
   "id": "a2bfe65b",
   "metadata": {},
   "outputs": [
    {
     "name": "stdout",
     "output_type": "stream",
     "text": [
      "5 5\n",
      "==\n"
     ]
    }
   ],
   "source": [
    "# 1330\n",
    "num1, num2 = map(int, input().split())\n",
    "\n",
    "if (num1 > num2) :\n",
    "    print(\">\")\n",
    "elif(num1 == num2) :\n",
    "    print(\"==\")\n",
    "else :\n",
    "    print(\"<\")"
   ]
  },
  {
   "cell_type": "code",
   "execution_count": 46,
   "id": "eeb32827",
   "metadata": {},
   "outputs": [
    {
     "name": "stdout",
     "output_type": "stream",
     "text": [
      "4\n",
      "1 100 100 100\n",
      "75.25\n"
     ]
    }
   ],
   "source": [
    "# 1546\n",
    "score_cnt = int(input())\n",
    "score_list = list(map(int, input().split()))\n",
    "score_max = max(score_list)\n",
    "score_sum = 0\n",
    "\n",
    "for i in range(0, score_cnt) :\n",
    "    score_list[i] = score_list[i]/score_max*100\n",
    "    \n",
    "for i in range(0, score_cnt) :\n",
    "    score_sum += score_list[i]\n",
    "    \n",
    "score_avg = score_sum/score_cnt\n",
    "\n",
    "print(score_avg)"
   ]
  },
  {
   "cell_type": "code",
   "execution_count": 47,
   "id": "cf6e0465",
   "metadata": {},
   "outputs": [
    {
     "name": "stdout",
     "output_type": "stream",
     "text": [
      "3\n",
      "*\n",
      "**\n",
      "***\n"
     ]
    }
   ],
   "source": [
    "# 2438\n",
    "star_cnt = int(input())\n",
    "\n",
    "for i in range(0, star_cnt) :\n",
    "    for j in range(0, i+1) :\n",
    "        print(\"*\", end='')\n",
    "    print(end='\\n')"
   ]
  },
  {
   "cell_type": "code",
   "execution_count": 57,
   "id": "479a593d",
   "metadata": {},
   "outputs": [
    {
     "name": "stdout",
     "output_type": "stream",
     "text": [
      "150\n",
      "266\n",
      "427\n",
      "3\n",
      "1\n",
      "0\n",
      "2\n",
      "0\n",
      "0\n",
      "0\n",
      "2\n",
      "0\n",
      "0\n"
     ]
    }
   ],
   "source": [
    "# 2577\n",
    "num_list = []\n",
    "\n",
    "for i in range (0, 3) :\n",
    "    num_list.append(int(input()))\n",
    "\n",
    "mul_num = str(num_list[0] * num_list[1] * num_list[2])\n",
    "\n",
    "for i in range (0, 10) :\n",
    "    print(mul_num.count(str(i)))"
   ]
  },
  {
   "cell_type": "code",
   "execution_count": 88,
   "id": "3ff311cf",
   "metadata": {
    "scrolled": true
   },
   "outputs": [
    {
     "name": "stdout",
     "output_type": "stream",
     "text": [
      "2\n",
      "3 ABC\n",
      "5 /HTP\n",
      "AAABBBCCC\n",
      "/////HHHHHTTTTTPPPPP\n"
     ]
    }
   ],
   "source": [
    "# 2675\n",
    "put_num = int(input())\n",
    "repeat_list = []\n",
    "str_list = []\n",
    "\n",
    "for i in range (0, put_num) :\n",
    "    number, string = input().split()\n",
    "    repeat_list.append(int(number))\n",
    "    str_list.append(string)\n",
    "\n",
    "for i in range (0, put_num) :\n",
    "    sample = str_list[i]\n",
    "    for j in range (0, len(sample)) :\n",
    "        for k in range (0, repeat_list[i]) :\n",
    "            print(sample[j], end=\"\")\n",
    "    print('\\n', end='')"
   ]
  },
  {
   "cell_type": "code",
   "execution_count": 94,
   "id": "f64e1f64",
   "metadata": {},
   "outputs": [
    {
     "name": "stdout",
     "output_type": "stream",
     "text": [
      "2\n",
      "2 * 1 = 2\n",
      "2 * 2 = 4\n",
      "2 * 3 = 6\n",
      "2 * 4 = 8\n",
      "2 * 5 = 10\n",
      "2 * 6 = 12\n",
      "2 * 7 = 14\n",
      "2 * 8 = 16\n",
      "2 * 9 = 18\n"
     ]
    }
   ],
   "source": [
    "# 2739\n",
    "dan = int(input())\n",
    "\n",
    "for i in range (1, 10) :\n",
    "    print(dan,\"*\", i, \"=\", dan*i)"
   ]
  },
  {
   "cell_type": "code",
   "execution_count": 95,
   "id": "34e7328d",
   "metadata": {},
   "outputs": [
    {
     "name": "stdout",
     "output_type": "stream",
     "text": [
      "10\n",
      "1\n",
      "2\n",
      "3\n",
      "4\n",
      "5\n",
      "6\n",
      "7\n",
      "8\n",
      "9\n",
      "10\n"
     ]
    }
   ],
   "source": [
    "# 2741\n",
    "put_num = int(input())\n",
    "\n",
    "for i in range (1, put_num+1) :\n",
    "    print(i)"
   ]
  },
  {
   "cell_type": "code",
   "execution_count": 96,
   "id": "72b24bad",
   "metadata": {},
   "outputs": [
    {
     "name": "stdout",
     "output_type": "stream",
     "text": [
      "5\n",
      "5\n",
      "4\n",
      "3\n",
      "2\n",
      "1\n"
     ]
    }
   ],
   "source": [
    "# 2742\n",
    "put_num = int(input())\n",
    "\n",
    "for i in range (put_num, 0, -1) :\n",
    "    print(i)"
   ]
  },
  {
   "cell_type": "code",
   "execution_count": 115,
   "id": "0e311eec",
   "metadata": {},
   "outputs": [
    {
     "name": "stdout",
     "output_type": "stream",
     "text": [
      "|\\_/|\n",
      "|q p|   /}\n",
      "( 0 )\"\"\"\\\n",
      "|\"^\"`    |\n",
      "||_/=\\\\__|\n"
     ]
    }
   ],
   "source": [
    "# 10172\n",
    "print(\"|\\_/|\")\n",
    "print(\"|q p|   /}\")\n",
    "print(\"( 0 )\\\"\\\"\\\"\\\\\")\n",
    "print('|\"^\"`    |')\n",
    "print(\"||_/=\\\\\\__|\")"
   ]
  },
  {
   "cell_type": "code",
   "execution_count": 117,
   "id": "6442e8cf",
   "metadata": {},
   "outputs": [
    {
     "name": "stdout",
     "output_type": "stream",
     "text": [
      "\\    /\\\n",
      " )  ( ')\n",
      "(  /  )\n",
      " \\(__)|\n"
     ]
    }
   ],
   "source": [
    "# 10171\n",
    "print(\"\\    /\\\\\")\n",
    "print(\" )  ( ')\")\n",
    "print(\"(  /  )\")\n",
    "print(\" \\\\(__)|\")"
   ]
  },
  {
   "cell_type": "code",
   "execution_count": 120,
   "id": "05301558",
   "metadata": {},
   "outputs": [
    {
     "name": "stdout",
     "output_type": "stream",
     "text": [
      "1999\n",
      "0\n"
     ]
    }
   ],
   "source": [
    "# 2753\n",
    "year = int(input())\n",
    "\n",
    "if (year % 4) == 0 :\n",
    "    if ((year % 100) != 0) or ((year % 400) == 0) :\n",
    "        print(\"1\")\n",
    "    else :\n",
    "        print(\"0\")\n",
    "else :\n",
    "    print(\"0\")"
   ]
  },
  {
   "cell_type": "code",
   "execution_count": 123,
   "id": "8fcaec44",
   "metadata": {},
   "outputs": [
    {
     "name": "stdout",
     "output_type": "stream",
     "text": [
      "7 3\n",
      "10\n",
      "4\n",
      "21\n",
      "2\n",
      "1\n"
     ]
    }
   ],
   "source": [
    "# 10869\n",
    "num1, num2 = map(int, input().split())\n",
    "\n",
    "print(num1 + num2)\n",
    "print(num1 - num2)\n",
    "print(num1 * num2)\n",
    "print(int(num1 / num2))\n",
    "print(num1 % num2)"
   ]
  },
  {
   "cell_type": "code",
   "execution_count": 125,
   "id": "9239a35c",
   "metadata": {},
   "outputs": [
    {
     "name": "stdout",
     "output_type": "stream",
     "text": [
      "5\n",
      "1 1\n",
      "2\n",
      "2 3\n",
      "5\n",
      "3 4\n",
      "7\n",
      "9 8\n",
      "17\n",
      "5 2\n",
      "7\n"
     ]
    }
   ],
   "source": [
    "# 10950\n",
    "rpt = int(input())\n",
    "\n",
    "for i in range (0, rpt) :\n",
    "    num1, num2 = map(int, input().split())\n",
    "    print(num1 + num2)"
   ]
  },
  {
   "cell_type": "code",
   "execution_count": null,
   "id": "38d861e6",
   "metadata": {},
   "outputs": [
    {
     "name": "stdout",
     "output_type": "stream",
     "text": [
      "1 1\n",
      "2\n",
      "2 3\n",
      "5\n",
      "3 4\n",
      "7\n",
      "\n",
      "\n",
      "\n",
      "\n"
     ]
    }
   ],
   "source": [
    "# 10951\n",
    "\n",
    "while 1 :\n",
    "    try :\n",
    "        num1, num2 = map(int, input().split())\n",
    "        print(num1 + num2)\n",
    "    except :\n",
    "        exit()"
   ]
  },
  {
   "cell_type": "code",
   "execution_count": 2,
   "id": "f0941dc8",
   "metadata": {},
   "outputs": [
    {
     "name": "stdout",
     "output_type": "stream",
     "text": [
      "1 1\n",
      "2\n",
      "2 3\n",
      "5\n",
      "0 0\n"
     ]
    }
   ],
   "source": [
    "# 10952\n",
    "while 1 :\n",
    "    num1, num2 = map(int, input().split())\n",
    "    if (num1 == 0 and num2 == 0) :\n",
    "        break\n",
    "    else :    \n",
    "        print(num1 + num2)"
   ]
  },
  {
   "cell_type": "code",
   "execution_count": 3,
   "id": "85ae2808",
   "metadata": {},
   "outputs": [
    {
     "name": "stdout",
     "output_type": "stream",
     "text": [
      "1 2\n",
      "2\n"
     ]
    }
   ],
   "source": [
    "# 10998\n",
    "num1, num2 = map(int, input().split())\n",
    "\n",
    "print(num1 * num2)"
   ]
  },
  {
   "cell_type": "code",
   "execution_count": 10,
   "id": "1010cd8d",
   "metadata": {},
   "outputs": [
    {
     "name": "stdout",
     "output_type": "stream",
     "text": [
      "D\n",
      "68\n"
     ]
    }
   ],
   "source": [
    "# 11654\n",
    "text = input()\n",
    "\n",
    "if type(text) == str :\n",
    "    print(ord(text))\n",
    "else :\n",
    "    print(chr(text))"
   ]
  },
  {
   "cell_type": "code",
   "execution_count": 19,
   "id": "1f647fab",
   "metadata": {},
   "outputs": [
    {
     "name": "stdout",
     "output_type": "stream",
     "text": [
      "25\n",
      "7000000000000000000000000\n",
      "7\n"
     ]
    }
   ],
   "source": [
    "# 11720\n",
    "put_cnt = int(input())\n",
    "number = input()\n",
    "number_sum = 0\n",
    "\n",
    "for i in range(0, put_cnt) :\n",
    "    number_sum += int(number[i])\n",
    "print(number_sum)"
   ]
  },
  {
   "cell_type": "code",
   "execution_count": 22,
   "id": "0cc8c072",
   "metadata": {},
   "outputs": [
    {
     "name": "stdout",
     "output_type": "stream",
     "text": [
      "39\n",
      "40\n",
      "41\n",
      "42\n",
      "43\n",
      "44\n",
      "82\n",
      "83\n",
      "84\n",
      "85\n",
      "6\n"
     ]
    }
   ],
   "source": [
    "# 3052\n",
    "rem_list = []\n",
    "cnt = 0\n",
    "\n",
    "for i in range(0, 10) :\n",
    "    rem = int(input()) % 42\n",
    "    rem_list.append(rem)\n",
    "\n",
    "print(len(set(rem_list)))"
   ]
  },
  {
   "cell_type": "code",
   "execution_count": 35,
   "id": "31ea2848",
   "metadata": {},
   "outputs": [
    {
     "name": "stdout",
     "output_type": "stream",
     "text": [
      "baekjoon\n",
      "[1, 0, -1, -1, 2, -1, -1, -1, -1, 4, 3, -1, -1, 7, 5, -1, -1, -1, -1, -1, -1, -1, -1, -1, -1, -1]\n",
      "1 0 -1 -1 2 -1 -1 -1 -1 4 3 -1 -1 7 5 -1 -1 -1 -1 -1 -1 -1 -1 -1 -1 -1 "
     ]
    }
   ],
   "source": [
    "# 10809\n",
    "text = input()\n",
    "chk_list = []\n",
    "\n",
    "for i in range (97, 123) :\n",
    "    val = text.find(chr(i))\n",
    "    \n",
    "    if val == -1 :\n",
    "        chk_list.append(-1)\n",
    "    else :\n",
    "        chk_list.append(text.index(chr(i)))\n",
    "\n",
    "for i in chk_list :\n",
    "    print(i, end=\" \")"
   ]
  },
  {
   "cell_type": "code",
   "execution_count": 41,
   "id": "ada1b56d",
   "metadata": {},
   "outputs": [
    {
     "name": "stdout",
     "output_type": "stream",
     "text": [
      "10 5\n",
      "1 10 4 9 2 3 8 5 7 6\n",
      "1 4 2 3 "
     ]
    }
   ],
   "source": [
    "# 10871\n",
    "put_cnt, level = map(int, input().split())\n",
    "num_list = list(map(int, input().split()))\n",
    "\n",
    "for i in num_list :\n",
    "    if i < level :\n",
    "        print(i, end=\" \")"
   ]
  },
  {
   "cell_type": "code",
   "execution_count": 43,
   "id": "61d6c424",
   "metadata": {
    "scrolled": true
   },
   "outputs": [
    {
     "name": "stdout",
     "output_type": "stream",
     "text": [
      "5\n",
      "20 10 35 30 7\n",
      "7 35 "
     ]
    }
   ],
   "source": [
    "# 10818\n",
    "put_cnt = int(input())\n",
    "num_list = list(map(int, input().split()))\n",
    "\n",
    "print(min(num_list), max(num_list), end=\" \")"
   ]
  },
  {
   "cell_type": "code",
   "execution_count": 48,
   "id": "e22dc735",
   "metadata": {},
   "outputs": [
    {
     "name": "stdout",
     "output_type": "stream",
     "text": [
      "839 237\n",
      "938\n"
     ]
    }
   ],
   "source": [
    "# 2908\n",
    "num1, num2 = map(str, input().split())\n",
    "\n",
    "chg_num1 = int(num1[2] + num1[1] + num1[0])\n",
    "chg_num2 = int(num2[2] + num2[1] + num2[0])\n",
    "\n",
    "result = chg_num1 if chg_num1 > chg_num2 else chg_num2\n",
    "\n",
    "print(result)"
   ]
  },
  {
   "cell_type": "code",
   "execution_count": 52,
   "id": "05741f57",
   "metadata": {},
   "outputs": [
    {
     "name": "stdout",
     "output_type": "stream",
     "text": [
      "10 10\n",
      "9 25\n"
     ]
    }
   ],
   "source": [
    "# 2884\n",
    "h, m = map(int, input().split())\n",
    "\n",
    "chg_time = h*60 + m - 45\n",
    "\n",
    "if chg_time < 0 :\n",
    "    chg_time = chg_time + 1440\n",
    "    \n",
    "chg_h = int(chg_time / 60)\n",
    "chg_m = chg_time % 60\n",
    "\n",
    "print(chg_h, chg_m)"
   ]
  },
  {
   "cell_type": "code",
   "execution_count": 58,
   "id": "7822acd3",
   "metadata": {},
   "outputs": [
    {
     "name": "stdout",
     "output_type": "stream",
     "text": [
      "1 2 3 4 5 6 7 8\n",
      "ascending\n"
     ]
    }
   ],
   "source": [
    "# 2920\n",
    "num_list = list(map(int, input().split()))\n",
    "cnt = 0\n",
    "\n",
    "for i in range(0, 7) :\n",
    "    if num_list[i] - num_list[i+1] == 1 :\n",
    "        cnt += 1\n",
    "    elif num_list[i] - num_list[i+1] == -1 :\n",
    "        cnt += -1\n",
    "\n",
    "if cnt == 7 :\n",
    "    print(\"descending\")\n",
    "elif cnt == -7 :\n",
    "    print(\"ascending\")\n",
    "else :\n",
    "    print(\"mixed\")"
   ]
  },
  {
   "cell_type": "code",
   "execution_count": 65,
   "id": "ed70ec62",
   "metadata": {},
   "outputs": [
    {
     "name": "stdout",
     "output_type": "stream",
     "text": [
      "5\n",
      "OOXXOXXOOO\n",
      "10\n",
      "OOXXOXXOOO\n",
      "10\n",
      "OOXXOXXOOO\n",
      "10\n",
      "OOXXOXXOOO\n",
      "10\n",
      "OOXXOXXOOO\n",
      "10\n"
     ]
    }
   ],
   "source": [
    "# 8958\n",
    "put_cnt = int(input())\n",
    "\n",
    "for cnt in range (0, put_cnt) :\n",
    "    result = input()\n",
    "    pt = 1\n",
    "    sum_num = 0\n",
    "    for i in result :\n",
    "        if i == \"O\" :\n",
    "            sum_num += pt\n",
    "            pt += 1\n",
    "        if i == \"X\" :\n",
    "            pt = 1\n",
    "    print(sum_num)"
   ]
  },
  {
   "cell_type": "code",
   "execution_count": 68,
   "id": "8972069c",
   "metadata": {},
   "outputs": [
    {
     "name": "stdout",
     "output_type": "stream",
     "text": [
      "70\n",
      "C\n"
     ]
    }
   ],
   "source": [
    "# 9498\n",
    "grade = int(input())\n",
    "\n",
    "if grade >= 90 :\n",
    "    print(\"A\")\n",
    "elif grade >= 80 and grade < 90 :\n",
    "    print(\"B\")\n",
    "elif grade >= 70 and grade < 80 :\n",
    "    print(\"C\")\n",
    "elif grade >= 60 and grade < 70 :\n",
    "    print(\"D\")\n",
    "else :\n",
    "    print(\"F\")"
   ]
  }
 ],
 "metadata": {
  "kernelspec": {
   "display_name": "Python 3 (ipykernel)",
   "language": "python",
   "name": "python3"
  },
  "language_info": {
   "codemirror_mode": {
    "name": "ipython",
    "version": 3
   },
   "file_extension": ".py",
   "mimetype": "text/x-python",
   "name": "python",
   "nbconvert_exporter": "python",
   "pygments_lexer": "ipython3",
   "version": "3.9.7"
  }
 },
 "nbformat": 4,
 "nbformat_minor": 5
}
