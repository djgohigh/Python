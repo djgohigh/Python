{
 "cells": [
  {
   "cell_type": "markdown",
   "id": "aa974d4a",
   "metadata": {},
   "source": [
    "# Python의 기초(Markdown)\n",
    "\n",
    "###은 제목크기"
   ]
  },
  {
   "cell_type": "code",
   "execution_count": 7,
   "id": "e172bfd5",
   "metadata": {},
   "outputs": [
    {
     "name": "stdout",
     "output_type": "stream",
     "text": [
      "Hello World\n"
     ]
    }
   ],
   "source": [
    "print(\"Hello World\")\n",
    "\n",
    "# 파이선의 주석, 'ctrl + /'\n",
    "# D 두번입력시 행제거"
   ]
  },
  {
   "cell_type": "code",
   "execution_count": 9,
   "id": "76f08816",
   "metadata": {},
   "outputs": [
    {
     "data": {
      "text/plain": [
       "['False',\n",
       " 'None',\n",
       " 'True',\n",
       " '__peg_parser__',\n",
       " 'and',\n",
       " 'as',\n",
       " 'assert',\n",
       " 'async',\n",
       " 'await',\n",
       " 'break',\n",
       " 'class',\n",
       " 'continue',\n",
       " 'def',\n",
       " 'del',\n",
       " 'elif',\n",
       " 'else',\n",
       " 'except',\n",
       " 'finally',\n",
       " 'for',\n",
       " 'from',\n",
       " 'global',\n",
       " 'if',\n",
       " 'import',\n",
       " 'in',\n",
       " 'is',\n",
       " 'lambda',\n",
       " 'nonlocal',\n",
       " 'not',\n",
       " 'or',\n",
       " 'pass',\n",
       " 'raise',\n",
       " 'return',\n",
       " 'try',\n",
       " 'while',\n",
       " 'with',\n",
       " 'yield']"
      ]
     },
     "execution_count": 9,
     "metadata": {},
     "output_type": "execute_result"
    }
   ],
   "source": [
    "import keyword\n",
    "keyword.kwlist"
   ]
  },
  {
   "cell_type": "code",
   "execution_count": 10,
   "id": "8cac988f",
   "metadata": {
    "slideshow": {
     "slide_type": "-"
    }
   },
   "outputs": [
    {
     "ename": "SyntaxError",
     "evalue": "invalid decimal literal (Temp/ipykernel_11576/148080122.py, line 11)",
     "output_type": "error",
     "traceback": [
      "\u001b[1;36m  File \u001b[1;32m\"C:\\Users\\dj\\AppData\\Local\\Temp/ipykernel_11576/148080122.py\"\u001b[1;36m, line \u001b[1;32m11\u001b[0m\n\u001b[1;33m    1_\u001b[0m\n\u001b[1;37m     ^\u001b[0m\n\u001b[1;31mSyntaxError\u001b[0m\u001b[1;31m:\u001b[0m invalid decimal literal\n"
     ]
    }
   ],
   "source": [
    "# 변수\n",
    "# 변수명 첫글자로 사용가능한 종류 : 영문, \n",
    "# 사용안되는 종류 : 특수문제, 숫자, 변수키워드\n",
    "# 변수명 첫글자는 특수문자, 숫자 사용 안되고, 언더바로는 시작가능함\n",
    "a\n",
    "a1\n",
    "a_b\n",
    "_abc\n",
    "# 사용할 수 없는 변수이름\n",
    "1\n",
    "1_\n",
    "name!\n",
    "another-name"
   ]
  },
  {
   "cell_type": "code",
   "execution_count": 12,
   "id": "dc95d71e",
   "metadata": {
    "slideshow": {
     "slide_type": "-"
    }
   },
   "outputs": [
    {
     "data": {
      "text/plain": [
       "17"
      ]
     },
     "execution_count": 12,
     "metadata": {},
     "output_type": "execute_result"
    }
   ],
   "source": [
    "# java 자료형(int, long, float, double)\n",
    "# js(var)\n",
    "# var numf:\n",
    "# 프로그래밍 언어에서 = 는 할당, 대입 의미\n",
    "x=5\n",
    "y=x+12\n",
    "y\n",
    "#simple is best"
   ]
  },
  {
   "cell_type": "code",
   "execution_count": 33,
   "id": "be469553",
   "metadata": {},
   "outputs": [],
   "source": [
    "# literal 수를 최소화하며 프로그래밍하는 것이 중요함\n",
    "y=x+12"
   ]
  },
  {
   "cell_type": "code",
   "execution_count": 40,
   "id": "391802b2",
   "metadata": {},
   "outputs": [
    {
     "name": "stdout",
     "output_type": "stream",
     "text": [
      "True\n",
      "x의 데이터 타입은 int이다\n"
     ]
    }
   ],
   "source": [
    "# 변수는 장소가 아니라 이름\n",
    "# 파이선에서 변수는 객체\n",
    "# java int -> interger ArrayList<integer>\n",
    "# type() 메서드 : 타입을 반환해주는 메서드\n",
    "# x의 변수종류를 반환함\n",
    "# 변수 타입 확인 : isinstance()\n",
    "type(x)\n",
    "print(isinstance(x,int))\n",
    "if(isinstance(x,int)): # {} 사용안하고 : 를 사용\n",
    "    print(\"x의 데이터 타입은 int이다\")"
   ]
  },
  {
   "cell_type": "code",
   "execution_count": 41,
   "id": "771f99fa",
   "metadata": {},
   "outputs": [
    {
     "data": {
      "text/plain": [
       "float"
      ]
     },
     "execution_count": 41,
     "metadata": {},
     "output_type": "execute_result"
    }
   ],
   "source": [
    "type(99.9)"
   ]
  },
  {
   "cell_type": "code",
   "execution_count": 42,
   "id": "29e8e982",
   "metadata": {},
   "outputs": [
    {
     "data": {
      "text/plain": [
       "str"
      ]
     },
     "execution_count": 42,
     "metadata": {},
     "output_type": "execute_result"
    }
   ],
   "source": [
    "type('abc')"
   ]
  },
  {
   "cell_type": "code",
   "execution_count": 44,
   "id": "4d694a27",
   "metadata": {},
   "outputs": [
    {
     "data": {
      "text/plain": [
       "2"
      ]
     },
     "execution_count": 44,
     "metadata": {},
     "output_type": "execute_result"
    }
   ],
   "source": [
    "two=2\n",
    "deux=two\n",
    "deux"
   ]
  },
  {
   "cell_type": "code",
   "execution_count": 45,
   "id": "16270a21",
   "metadata": {},
   "outputs": [],
   "source": [
    "x=5"
   ]
  },
  {
   "cell_type": "code",
   "execution_count": 48,
   "id": "6eff6fb6",
   "metadata": {},
   "outputs": [
    {
     "data": {
      "text/plain": [
       "(1, 0, 0)"
      ]
     },
     "execution_count": 48,
     "metadata": {},
     "output_type": "execute_result"
    }
   ],
   "source": [
    "1_000_000"
   ]
  },
  {
   "cell_type": "code",
   "execution_count": 49,
   "id": "40189f2c",
   "metadata": {},
   "outputs": [
    {
     "data": {
      "text/plain": [
       "1"
      ]
     },
     "execution_count": 49,
     "metadata": {},
     "output_type": "execute_result"
    }
   ],
   "source": [
    "# 연산자\n",
    "# 사칙연산 플마곱나\n",
    "# % 나머지 값 계산\n",
    "# ** 지수\n",
    "10%3"
   ]
  },
  {
   "cell_type": "code",
   "execution_count": 50,
   "id": "0aa285a2",
   "metadata": {},
   "outputs": [
    {
     "data": {
      "text/plain": [
       "4294967296"
      ]
     },
     "execution_count": 50,
     "metadata": {},
     "output_type": "execute_result"
    }
   ],
   "source": [
    "# int 4byte, 1byte = 8bit\n",
    "2**32"
   ]
  },
  {
   "cell_type": "code",
   "execution_count": 52,
   "id": "e8569efa",
   "metadata": {},
   "outputs": [
    {
     "name": "stdout",
     "output_type": "stream",
     "text": [
      "14\n"
     ]
    },
    {
     "data": {
      "text/plain": [
       "20"
      ]
     },
     "execution_count": 52,
     "metadata": {},
     "output_type": "execute_result"
    }
   ],
   "source": [
    "# 연산순서\n",
    "print(2+3*4)\n",
    "# 14\n",
    "(2+3)*4\n",
    "# 20"
   ]
  },
  {
   "cell_type": "code",
   "execution_count": 53,
   "id": "269ab6ae",
   "metadata": {},
   "outputs": [
    {
     "data": {
      "text/plain": [
       "16"
      ]
     },
     "execution_count": 53,
     "metadata": {},
     "output_type": "execute_result"
    }
   ],
   "source": [
    "# 진수\n",
    "# 0x 로 시작하면 16진수 의미\n",
    "0x10\n",
    "# 1,2,3,4,5,6,7,8,9,a,b,c,d,e,f"
   ]
  },
  {
   "cell_type": "code",
   "execution_count": 56,
   "id": "64f343c0",
   "metadata": {},
   "outputs": [
    {
     "data": {
      "text/plain": [
       "6"
      ]
     },
     "execution_count": 56,
     "metadata": {},
     "output_type": "execute_result"
    }
   ],
   "source": [
    "# 타입변환\n",
    "int(True)\n",
    "x=\"5\"\n",
    "# 문자열 변수는 int() 사용시 정수형으로 변환됨\n",
    "y=int(x)+1\n"
   ]
  },
  {
   "cell_type": "code",
   "execution_count": 57,
   "id": "15b40c59",
   "metadata": {},
   "outputs": [],
   "source": [
    "# 실수의 연산은 실수(mistake) 나온다."
   ]
  },
  {
   "cell_type": "code",
   "execution_count": null,
   "id": "8b888404",
   "metadata": {},
   "outputs": [],
   "source": [
    "a=1\n",
    "b=2\n",
    "\n",
    "print(int(a)+int(b))"
   ]
  },
  {
   "cell_type": "code",
   "execution_count": 67,
   "id": "b7682e44",
   "metadata": {},
   "outputs": [
    {
     "name": "stdout",
     "output_type": "stream",
     "text": [
      "1 3\n",
      "0.3333333333333333\n",
      "4 5\n",
      "0.8\n"
     ]
    }
   ],
   "source": [
    "A,B=input().split()\n",
    "\n",
    "print(int(A)-int(B))"
   ]
  },
  {
   "cell_type": "code",
   "execution_count": 74,
   "id": "9c4e8686",
   "metadata": {},
   "outputs": [
    {
     "name": "stdout",
     "output_type": "stream",
     "text": [
      "The Curious Case of Benjamin Button\n",
      "6\n"
     ]
    }
   ],
   "source": [
    "text=input()\n",
    "result=len(text.split())\n",
    "\n",
    "print(result)"
   ]
  },
  {
   "cell_type": "code",
   "execution_count": 76,
   "id": "051282ec",
   "metadata": {},
   "outputs": [
    {
     "name": "stdout",
     "output_type": "stream",
     "text": [
      "from collections import Counter\n",
      "Counter({'o': 5, 'r': 3, ' ': 3, 't': 3, 'm': 2, 'c': 2, 'l': 2, 'e': 2, 'i': 2, 'n': 2, 'f': 1, 's': 1, 'p': 1, 'C': 1, 'u': 1})\n"
     ]
    }
   ],
   "source": [
    "from collections import Counter\n",
    "\n",
    "text=input()\n",
    "\n",
    "print(Counter(text))"
   ]
  },
  {
   "cell_type": "code",
   "execution_count": 116,
   "id": "a2ab9c5b",
   "metadata": {},
   "outputs": [
    {
     "name": "stdout",
     "output_type": "stream",
     "text": [
      "oreo\n",
      "O\n"
     ]
    }
   ],
   "source": [
    "# 1157\n",
    "words = input().upper()\n",
    "unique_words = list(set(words))\n",
    "\n",
    "cnt_list = []\n",
    "\n",
    "for i in unique_words :\n",
    "    cnt = words.count(i)\n",
    "    cnt_list.append(cnt)\n",
    "\n",
    "if cnt_list.count(max(cnt_list)) > 1:\n",
    "   print(\"?\")\n",
    "else :\n",
    "   max_index = cnt_list.index(max(cnt_list))\n",
    "   print(unique_words[max_index])"
   ]
  },
  {
   "cell_type": "code",
   "execution_count": 131,
   "id": "d9976de0",
   "metadata": {},
   "outputs": [
    {
     "name": "stdout",
     "output_type": "stream",
     "text": [
      "5 5\n",
      "==\n"
     ]
    }
   ],
   "source": [
    "# 1330\n",
    "num1, num2 = map(int, input().split())\n",
    "\n",
    "if (num1 > num2) :\n",
    "    print(\">\")\n",
    "elif(num1 == num2) :\n",
    "    print(\"==\")\n",
    "else :\n",
    "    print(\"<\")"
   ]
  },
  {
   "cell_type": "code",
   "execution_count": 164,
   "id": "f95ac31d",
   "metadata": {},
   "outputs": [
    {
     "name": "stdout",
     "output_type": "stream",
     "text": [
      "4\n",
      "1 100 100 100\n",
      "100\n",
      "75.25\n"
     ]
    }
   ],
   "source": [
    "# 1546\n",
    "score_cnt = int(input())\n",
    "score_list = list(map(int, input().split()))\n",
    "score_max = max(score_list)\n",
    "score_sum = 0\n",
    "\n",
    "for i in range(0, score_cnt) :\n",
    "    score_list[i] = score_list[i]/score_max*100\n",
    "    \n",
    "for i in range(0, score_cnt) :\n",
    "    score_sum += score_list[i]\n",
    "    \n",
    "score_avg = score_sum/score_cnt\n",
    "\n",
    "print(score_avg)"
   ]
  },
  {
   "cell_type": "code",
   "execution_count": 1,
   "id": "b5050086",
   "metadata": {
    "scrolled": false
   },
   "outputs": [
    {
     "name": "stdout",
     "output_type": "stream",
     "text": [
      "3\n",
      "*\n",
      "**\n",
      "***\n"
     ]
    }
   ],
   "source": [
    "# 2438\n",
    "star_cnt = int(input())\n",
    "\n",
    "for i in range(0, star_cnt) :\n",
    "    for j in range(0, i+1) :\n",
    "        print(\"*\", end='')\n",
    "    print(end='\\n')"
   ]
  }
 ],
 "metadata": {
  "celltoolbar": "Slideshow",
  "kernelspec": {
   "display_name": "Python 3 (ipykernel)",
   "language": "python",
   "name": "python3"
  },
  "language_info": {
   "codemirror_mode": {
    "name": "ipython",
    "version": 3
   },
   "file_extension": ".py",
   "mimetype": "text/x-python",
   "name": "python",
   "nbconvert_exporter": "python",
   "pygments_lexer": "ipython3",
   "version": "3.9.7"
  }
 },
 "nbformat": 4,
 "nbformat_minor": 5
}
