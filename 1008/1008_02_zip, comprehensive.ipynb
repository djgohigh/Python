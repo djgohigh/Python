{
 "cells": [
  {
   "cell_type": "code",
   "execution_count": 8,
   "id": "e5e30b9f",
   "metadata": {},
   "outputs": [
    {
     "name": "stdout",
     "output_type": "stream",
     "text": [
      "brie\n",
      "I won't eat anything that starts with 'g'\n"
     ]
    }
   ],
   "source": [
    "cheeses = ['brie', 'gjetost', 'havarti']\n",
    "for cheese in cheeses:\n",
    "    if cheese.startswith('g'):\n",
    "        print(\"I won't eat anything that starts with 'g'\")\n",
    "        break\n",
    "    else:\n",
    "        print(cheese)"
   ]
  },
  {
   "cell_type": "code",
   "execution_count": 11,
   "id": "5831340b",
   "metadata": {},
   "outputs": [
    {
     "name": "stdout",
     "output_type": "stream",
     "text": [
      "This is not much of a cheese shop, is it?\n"
     ]
    }
   ],
   "source": [
    "cheeses = []\n",
    "for cheese in cheeses:\n",
    "    print('This shop has some lovely', cheese)\n",
    "    break\n",
    "else:\n",
    "    print('This is not much of a cheese shop, is it?')"
   ]
  },
  {
   "cell_type": "code",
   "execution_count": 26,
   "id": "c8bccc88",
   "metadata": {},
   "outputs": [
    {
     "name": "stdout",
     "output_type": "stream",
     "text": [
      "Monday : drink coffee -eat banana -enjoy tiramisu\n",
      "Tuesday : drink tea -eat orange -enjoy ice cream\n",
      "Wednesday : drink beer -eat peach -enjoy pie\n"
     ]
    }
   ],
   "source": [
    "days = ['Monday', 'Tuesday', 'Wednesday']\n",
    "fruits = ['banana', 'orange', 'peach']\n",
    "drinks = ['coffee', 'tea', 'beer']\n",
    "desserts = ['tiramisu', 'ice cream', 'pie', 'pudding']\n",
    "for day, fruit, drink, dessert in zip(days, fruits, drinks, desserts):\n",
    "    print(day, \": drink\", drink, \"-eat\", fruit, \"-enjoy\", dessert)\n",
    "# pudding 이 출력되려면 days, fruits, drinks 에 각각 항목이 1개씩 추가되어야함."
   ]
  },
  {
   "cell_type": "code",
   "execution_count": 32,
   "id": "eb1a5454",
   "metadata": {},
   "outputs": [
    {
     "name": "stdout",
     "output_type": "stream",
     "text": [
      "[('Monday', 'Lundi'), ('Tuesday', 'Mardi'), ('Wednesday', 'Mercredi')]\n"
     ]
    },
    {
     "data": {
      "text/plain": [
       "{'Monday': 'Lundi', 'Tuesday': 'Mardi', 'Wednesday': 'Mercredi'}"
      ]
     },
     "execution_count": 32,
     "metadata": {},
     "output_type": "execute_result"
    }
   ],
   "source": [
    "english = 'Monday', 'Tuesday', 'Wednesday'\n",
    "french = 'Lundi', 'Mardi', 'Mercredi'\n",
    "\n",
    "print(list(zip(english, french)))\n",
    "dict((zip(english, french)))\n",
    "\n",
    "# 키-값 쌍 구조(key - value 구조)"
   ]
  },
  {
   "cell_type": "code",
   "execution_count": 38,
   "id": "a790963a",
   "metadata": {},
   "outputs": [
    {
     "name": "stdout",
     "output_type": "stream",
     "text": [
      "[1, 2, 3, 4, 5]\n"
     ]
    }
   ],
   "source": [
    "number_list = []\n",
    "\n",
    "for i in range(1,6):\n",
    "    number_list.append(i)\n",
    "    \n",
    "print(number_list)"
   ]
  }
 ],
 "metadata": {
  "kernelspec": {
   "display_name": "Python 3",
   "language": "python",
   "name": "python3"
  },
  "language_info": {
   "codemirror_mode": {
    "name": "ipython",
    "version": 3
   },
   "file_extension": ".py",
   "mimetype": "text/x-python",
   "name": "python",
   "nbconvert_exporter": "python",
   "pygments_lexer": "ipython3",
   "version": "3.8.8"
  }
 },
 "nbformat": 4,
 "nbformat_minor": 5
}
