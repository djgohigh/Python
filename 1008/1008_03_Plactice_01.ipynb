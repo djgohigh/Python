{
 "cells": [
  {
   "cell_type": "code",
   "execution_count": 11,
   "id": "491db57e",
   "metadata": {},
   "outputs": [
    {
     "name": "stdout",
     "output_type": "stream",
     "text": [
      "[1994, 1995, 1996, 1997, 1998]\n",
      "1997\n",
      "1998\n"
     ]
    }
   ],
   "source": [
    "# 1, 2, 3\n",
    "\n",
    "# 1\n",
    "year_list = []\n",
    "\n",
    "year_list.append(1994)\n",
    "year_list.append(1995)\n",
    "year_list.append(1996)\n",
    "year_list.append(1997)\n",
    "year_list.append(1998)\n",
    "\n",
    "print(year_list)\n",
    "\n",
    "# 2\n",
    "print(year_list[3])\n",
    "\n",
    "# 3\n",
    "print(year_list[4])"
   ]
  },
  {
   "cell_type": "code",
   "execution_count": 34,
   "id": "6cf40ba8",
   "metadata": {},
   "outputs": [
    {
     "name": "stdout",
     "output_type": "stream",
     "text": [
      "Cinderella\n",
      "['mozzarella', 'cinderella', 'salmonella']\n",
      "['mozzarella', 'salmonella']\n",
      "['mozzarella', 'cinderella']\n"
     ]
    }
   ],
   "source": [
    "# 4, 5, 6, 7\n",
    "\n",
    "# 4\n",
    "things = [\"mozzarella\", \"cinderella\", \"salmonella\"]\n",
    "\n",
    "# 5\n",
    "print(things[1].capitalize())\n",
    "print(things) # 리스트 요소가 안변함\n",
    "\n",
    "# 6\n",
    "print(things[0:3:2])\n",
    "\n",
    "# 7\n",
    "del things[2]\n",
    "print(things)"
   ]
  },
  {
   "cell_type": "code",
   "execution_count": 41,
   "id": "97dfc77c",
   "metadata": {},
   "outputs": [
    {
     "name": "stdout",
     "output_type": "stream",
     "text": [
      "harpo\n"
     ]
    },
    {
     "data": {
      "text/plain": [
       "'Oprah'"
      ]
     },
     "execution_count": 41,
     "metadata": {},
     "output_type": "execute_result"
    }
   ],
   "source": [
    "# 8, 9\n",
    "\n",
    "# 8\n",
    "Surprise = [\"Groucho\", \"Chico\", \"Harpo\"]\n",
    "\n",
    "# 9\n",
    "Surprise[2] = Surprise[2].lower()\n",
    "print(Surprise[2])\n",
    "Surprise[2][::-1].capitalize()"
   ]
  },
  {
   "cell_type": "code",
   "execution_count": 53,
   "id": "b4176bb1",
   "metadata": {},
   "outputs": [
    {
     "name": "stdout",
     "output_type": "stream",
     "text": [
      "[2, 4, 6, 8]\n"
     ]
    }
   ],
   "source": [
    "# 10\n",
    "lst = []\n",
    "for even in range(10):\n",
    "    if (even == 0):\n",
    "        continue\n",
    "    if (even % 2 == 0):\n",
    "        lst.append(even)\n",
    "print(lst)"
   ]
  },
  {
   "cell_type": "code",
   "execution_count": 201,
   "id": "69517c65",
   "metadata": {
    "scrolled": true
   },
   "outputs": [
    {
     "name": "stdout",
     "output_type": "stream",
     "text": [
      "Fee! Fie! Foe! Flop!\n",
      "someone better get a mop\n",
      "Fee! Fie! Foe! Fope!\n",
      "someone better turn the rope\n",
      "Fee! Fie! Foe! Fa!\n",
      "someone better get your ma\n",
      "Fee! Fie! Foe! Fudge!\n",
      "someone better call the judge\n",
      "Fee! Fie! Foe! Fat!\n",
      "someone better pet the cat\n",
      "Fee! Fie! Foe! Fog!\n",
      "someone better walk the dog\n",
      "Fee! Fie! Foe! Fun!\n",
      "someone better say we're done\n"
     ]
    }
   ],
   "source": [
    "# 11\n",
    "start1 = [\"fee\", \"fie\", \"foe\"]\n",
    "rhymes = [\n",
    "    (\"flop\", \"get a mop\"),\n",
    "    (\"fope\", \"turn the rope\"),\n",
    "    (\"fa\", \"get your ma\"),\n",
    "    (\"fudge\", \"call the judge\"),\n",
    "    (\"fat\", \"pet the cat\"),\n",
    "    (\"fog\", \"walk the dog\"),\n",
    "    (\"fun\", \"say we're done\"),\n",
    "]\n",
    "start2 = \"someone better\"\n",
    "\n",
    "for j in rhymes:\n",
    "    for i in start1:\n",
    "        print(i.capitalize() + \"!\", end=\" \")\n",
    "    print(j[0].capitalize() + \"!\")\n",
    "    print(start2, j[1])"
   ]
  }
 ],
 "metadata": {
  "kernelspec": {
   "display_name": "Python 3",
   "language": "python",
   "name": "python3"
  },
  "language_info": {
   "codemirror_mode": {
    "name": "ipython",
    "version": 3
   },
   "file_extension": ".py",
   "mimetype": "text/x-python",
   "name": "python",
   "nbconvert_exporter": "python",
   "pygments_lexer": "ipython3",
   "version": "3.8.8"
  }
 },
 "nbformat": 4,
 "nbformat_minor": 5
}
