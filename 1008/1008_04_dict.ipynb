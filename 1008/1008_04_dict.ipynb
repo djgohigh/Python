{
 "cells": [
  {
   "cell_type": "code",
   "execution_count": 24,
   "id": "e47b0157",
   "metadata": {},
   "outputs": [
    {
     "name": "stdout",
     "output_type": "stream",
     "text": [
      "{'champman': 'Graham', 'cleese': 'John', 'Idle': 'Eric', 'Jones': 'Terry', 'Palin': 'Michael'}\n",
      "{'champman': 'Graham', 'cleese': 'John', 'Idle': 'Eric', 'Jones': 'Terry', 'Palin': 'Michael', 'Gilliam': 'Terry'}\n"
     ]
    }
   ],
   "source": [
    "pythons = {\n",
    "    'champman' : 'Graham',\n",
    "    'cleese' : 'John',\n",
    "    'Idle' : 'Eric',\n",
    "    'Jones' : 'Terry',\n",
    "    'Palin' : 'Michael',\n",
    "}\n",
    "print(pythons)\n",
    "\n",
    "pythons['Gilliam'] = 'Terry'\n",
    "\n",
    "print(pythons)"
   ]
  },
  {
   "cell_type": "code",
   "execution_count": 43,
   "id": "e406ad6d",
   "metadata": {},
   "outputs": [
    {
     "name": "stdout",
     "output_type": "stream",
     "text": [
      "John\n",
      "True\n",
      "John\n",
      "값이 없으면 출력됨\n",
      "Terry\n"
     ]
    }
   ],
   "source": [
    "some_pythons = {\n",
    "    'champman' : 'Graham',\n",
    "    'cleese' : 'John',\n",
    "    'Idle' : 'Eric',\n",
    "    'Jones' : 'Terry',\n",
    "    'Palin' : 'Michael',\n",
    "}\n",
    "\n",
    "print(some_pythons['cleese'])\n",
    "\n",
    "print('champman' in some_pythons)\n",
    "\n",
    "print(some_pythons.get('cleese'))\n",
    "\n",
    "print(some_pythons.get('Eric', '값이 없으면 출력됨'))\n",
    "print(some_pythons.get('Jones', '값이 없으면 출력됨'))"
   ]
  },
  {
   "cell_type": "code",
   "execution_count": 47,
   "id": "cf2c4a0d",
   "metadata": {},
   "outputs": [
    {
     "name": "stdout",
     "output_type": "stream",
     "text": [
      "{'champman': 'Graham', 'cleese': 'John', 'Idle': 'Eric', 'Jones': 'Terry', 'Palin': 'Michael', 'marx': 'Groucho', 'Howard': 'Moe'}\n"
     ]
    }
   ],
   "source": [
    "pythons = {\n",
    "    'champman' : 'Graham',\n",
    "    'cleese' : 'John',\n",
    "    'Idle' : 'Eric',\n",
    "    'Jones' : 'Terry',\n",
    "    'Palin' : 'Michael',\n",
    "}\n",
    "others = { 'marx' : 'Groucho', 'Howard' : 'Moe'}\n",
    "\n",
    "pythons.update(others)\n",
    "print(pythons)"
   ]
  },
  {
   "cell_type": "code",
   "execution_count": 54,
   "id": "dd694e6d",
   "metadata": {},
   "outputs": [
    {
     "name": "stdout",
     "output_type": "stream",
     "text": [
      "{}\n"
     ]
    }
   ],
   "source": [
    "pythons.clear()\n",
    "print(pythons)"
   ]
  },
  {
   "cell_type": "code",
   "execution_count": 58,
   "id": "63819857",
   "metadata": {},
   "outputs": [
    {
     "name": "stdout",
     "output_type": "stream",
     "text": [
      "room\n",
      "weapon\n",
      "person\n",
      "('room', 'ballroom')\n",
      "('weapon', 'lead pipe')\n",
      "('person', 'Col.Mustard')\n",
      "room\n",
      "weapon\n",
      "person\n"
     ]
    }
   ],
   "source": [
    "accusation = {'room' : 'ballroom', 'weapon' : 'lead pipe', 'person' : 'Col.Mustard'}\n",
    "for card in accusation: # or, for card in accusation.keys()\n",
    "    print(card)\n",
    "\n",
    "for card in accusation.items(): # or, for card in accusation.keys()\n",
    "    print(card)\n",
    "    \n",
    "for card in accusation.keys(): # or, for card in accusation.keys()\n",
    "    print(card)"
   ]
  },
  {
   "cell_type": "code",
   "execution_count": 63,
   "id": "5fea1d36",
   "metadata": {},
   "outputs": [
    {
     "name": "stdout",
     "output_type": "stream",
     "text": [
      "room. ballroom\n",
      "weapon. lead pipe\n",
      "person. Col.Mustard\n"
     ]
    }
   ],
   "source": [
    "accusation = {'room' : 'ballroom', 'weapon' : 'lead pipe', 'person' : 'Col.Mustard'}\n",
    "\n",
    "for card, contents in accusation.items(): # or, for card in accusation.keys()\n",
    "    print(card + '.', contents)"
   ]
  },
  {
   "cell_type": "code",
   "execution_count": 67,
   "id": "deb915b6",
   "metadata": {},
   "outputs": [
    {
     "name": "stdout",
     "output_type": "stream",
     "text": [
      "{'l': 1, 'e': 2, 't': 2, 'r': 1, 's': 1}\n"
     ]
    }
   ],
   "source": [
    "word = 'letters'\n",
    "letter_counts = {letter: word.count(letter) for letter in word}\n",
    "print(letter_counts)"
   ]
  },
  {
   "cell_type": "code",
   "execution_count": 70,
   "id": "5d7ee63f",
   "metadata": {},
   "outputs": [
    {
     "data": {
      "text/plain": [
       "set()"
      ]
     },
     "execution_count": 70,
     "metadata": {},
     "output_type": "execute_result"
    }
   ],
   "source": [
    "empty_set = set()\n",
    "empty_set"
   ]
  },
  {
   "cell_type": "code",
   "execution_count": 72,
   "id": "9bede9d3",
   "metadata": {},
   "outputs": [
    {
     "data": {
      "text/plain": [
       "{'e', 'l', 'r', 's', 't'}"
      ]
     },
     "execution_count": 72,
     "metadata": {},
     "output_type": "execute_result"
    }
   ],
   "source": [
    "set('letters')"
   ]
  },
  {
   "cell_type": "code",
   "execution_count": 74,
   "id": "9a559384",
   "metadata": {},
   "outputs": [
    {
     "data": {
      "text/plain": [
       "{'Dancer', 'Dasher', 'Mason-Dixon', 'Prancer'}"
      ]
     },
     "execution_count": 74,
     "metadata": {},
     "output_type": "execute_result"
    }
   ],
   "source": [
    "set(['Dasher', 'Dancer', 'Prancer', 'Mason-Dixon'])"
   ]
  },
  {
   "cell_type": "code",
   "execution_count": 77,
   "id": "f8da9937",
   "metadata": {},
   "outputs": [
    {
     "data": {
      "text/plain": [
       "{'Atom Heart Mother', 'Echoes', 'umaguma'}"
      ]
     },
     "execution_count": 77,
     "metadata": {},
     "output_type": "execute_result"
    }
   ],
   "source": [
    "set(('umaguma', 'Echoes', 'Atom Heart Mother'))"
   ]
  },
  {
   "cell_type": "code",
   "execution_count": 79,
   "id": "fc61c809",
   "metadata": {},
   "outputs": [
    {
     "data": {
      "text/plain": [
       "{'apple', 'cherry', 'orange'}"
      ]
     },
     "execution_count": 79,
     "metadata": {},
     "output_type": "execute_result"
    }
   ],
   "source": [
    "set({'apple' : 'red', 'orange' : 'orange', 'cherry' : 'red'})"
   ]
  },
  {
   "cell_type": "code",
   "execution_count": 87,
   "id": "8405d00f",
   "metadata": {},
   "outputs": [
    {
     "name": "stdout",
     "output_type": "stream",
     "text": [
      "{1, 2, 3}\n",
      "{1, 2, 3, 4}\n",
      "{1, 2, 4}\n"
     ]
    }
   ],
   "source": [
    "s = set((1,2,3))\n",
    "print(s)\n",
    "\n",
    "s.add(4)\n",
    "print(s)\n",
    "\n",
    "s.remove(3)\n",
    "print(s)"
   ]
  },
  {
   "cell_type": "code",
   "execution_count": 90,
   "id": "c2ab384f",
   "metadata": {},
   "outputs": [
    {
     "name": "stdout",
     "output_type": "stream",
     "text": [
      "black russian\n",
      "screwdriver\n"
     ]
    }
   ],
   "source": [
    "drinks = {\n",
    "    'martini' : {'vodka', 'vermouth'},\n",
    "    'black russian' : {'vodka', 'kahlua'},\n",
    "    'white russian' : {'cream', 'kahlua', 'vodka'},\n",
    "    'manhattan' : {'rye', 'vermouth', 'bitters'},\n",
    "    'screwdriver' : {'orange juice', 'vodka'}\n",
    "}\n",
    "\n",
    "for name, contents in drinks.items():\n",
    "    if 'vodka' in contents and not ('vermouth' in contents or 'cream' in contents):\n",
    "        print(name)"
   ]
  }
 ],
 "metadata": {
  "kernelspec": {
   "display_name": "Python 3",
   "language": "python",
   "name": "python3"
  },
  "language_info": {
   "codemirror_mode": {
    "name": "ipython",
    "version": 3
   },
   "file_extension": ".py",
   "mimetype": "text/x-python",
   "name": "python",
   "nbconvert_exporter": "python",
   "pygments_lexer": "ipython3",
   "version": "3.8.8"
  }
 },
 "nbformat": 4,
 "nbformat_minor": 5
}
