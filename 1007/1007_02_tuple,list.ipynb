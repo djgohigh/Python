{
 "cells": [
  {
   "cell_type": "code",
   "execution_count": 18,
   "id": "8cf68a13",
   "metadata": {},
   "outputs": [
    {
     "data": {
      "text/plain": [
       "('Groucho', 'Chico', 'Harpo')"
      ]
     },
     "execution_count": 18,
     "metadata": {},
     "output_type": "execute_result"
    }
   ],
   "source": [
    "marx_list = ['Groucho', 'Chico', 'Harpo']\n",
    "tuple(marx_list)"
   ]
  },
  {
   "cell_type": "code",
   "execution_count": 33,
   "id": "2e611f79",
   "metadata": {},
   "outputs": [
    {
     "name": "stdout",
     "output_type": "stream",
     "text": [
      "fresh out of ideas "
     ]
    }
   ],
   "source": [
    "words = ('fresh', 'out', 'of', 'ideas')\n",
    "for word in words:\n",
    "    print(word, end=' ')"
   ]
  },
  {
   "cell_type": "code",
   "execution_count": 61,
   "id": "7e50bc4c",
   "metadata": {},
   "outputs": [
    {
     "name": "stdout",
     "output_type": "stream",
     "text": [
      "home"
     ]
    }
   ],
   "source": [
    "lst = [1, 2, 3, 4, 5, [6, 7, 8, 9, [10, 11, 12, 13, 14, [15, 16, 17, 18, [19, 20, 'hey, nagyeom']]]]]\n",
    "\n",
    "print(lst[5][4][5][4][2][0:1], end='')\n",
    "print(lst[5][4][5][4][2][10:11], end='')\n",
    "print(lst[5][4][5][4][2][11:12], end='')\n",
    "print(lst[5][4][5][4][2][1:2], end='')"
   ]
  },
  {
   "cell_type": "code",
   "execution_count": 67,
   "id": "1f1cd8be",
   "metadata": {},
   "outputs": [
    {
     "data": {
      "text/plain": [
       "['ready', 'fire', 'aim']"
      ]
     },
     "execution_count": 67,
     "metadata": {},
     "output_type": "execute_result"
    }
   ],
   "source": [
    "another_empty_list = list()\n",
    "another_empty_list\n",
    "\n",
    "a_tuple = ('ready', 'fire', 'aim')\n",
    "list(a_tuple)"
   ]
  },
  {
   "cell_type": "code",
   "execution_count": 69,
   "id": "873be383",
   "metadata": {},
   "outputs": [
    {
     "data": {
      "text/plain": [
       "['9', '19', '2019']"
      ]
     },
     "execution_count": 69,
     "metadata": {},
     "output_type": "execute_result"
    }
   ],
   "source": [
    "talk_like_a_pirate_day='9/19/2019'\n",
    "talk_like_a_pirate_day.split('/')"
   ]
  },
  {
   "cell_type": "code",
   "execution_count": 74,
   "id": "f5a0b025",
   "metadata": {},
   "outputs": [
    {
     "name": "stdout",
     "output_type": "stream",
     "text": [
      "['a', 'b', '', 'c', 'd', '', 'e']\n",
      "['a/b', 'c/d', 'e']\n"
     ]
    }
   ],
   "source": [
    "splitme='a/b//c/d//e'\n",
    "print(splitme.split('/'))\n",
    "\n",
    "splitme='a/b//c/d//e'\n",
    "print(splitme.split('//'))"
   ]
  },
  {
   "cell_type": "code",
   "execution_count": 76,
   "id": "eefb332d",
   "metadata": {},
   "outputs": [
    {
     "data": {
      "text/plain": [
       "['Groucho', 'chico']"
      ]
     },
     "execution_count": 76,
     "metadata": {},
     "output_type": "execute_result"
    }
   ],
   "source": [
    "marxes = ['Groucho', 'chico', 'harpo']\n",
    "marxes[0:2]"
   ]
  },
  {
   "cell_type": "code",
   "execution_count": 78,
   "id": "c6d57cfb",
   "metadata": {},
   "outputs": [
    {
     "data": {
      "text/plain": [
       "['Groucho', 'harpo']"
      ]
     },
     "execution_count": 78,
     "metadata": {},
     "output_type": "execute_result"
    }
   ],
   "source": [
    "marxes[::2]"
   ]
  },
  {
   "cell_type": "code",
   "execution_count": 84,
   "id": "6f6faa6d",
   "metadata": {},
   "outputs": [
    {
     "data": {
      "text/plain": [
       "['Groucho', 'chico', 'harpo']"
      ]
     },
     "execution_count": 84,
     "metadata": {},
     "output_type": "execute_result"
    }
   ],
   "source": [
    "marxes[::-1]\n",
    "\n",
    "marxes.reverse()\n",
    "marxes"
   ]
  },
  {
   "cell_type": "code",
   "execution_count": 94,
   "id": "de041539",
   "metadata": {},
   "outputs": [
    {
     "name": "stdout",
     "output_type": "stream",
     "text": [
      "['Groucho', 'Chico', 'Harpo', 'Zeppo']\n"
     ]
    }
   ],
   "source": [
    "marxes = ['Groucho', 'Chico']\n",
    "lst = ['Harpo', 'Zeppo']\n",
    "\n",
    "for i in range(2):\n",
    "    marxes.append(lst[i])\n",
    "print(marxes)"
   ]
  },
  {
   "cell_type": "code",
   "execution_count": 102,
   "id": "cb29b73e",
   "metadata": {
    "scrolled": true
   },
   "outputs": [
    {
     "name": "stdout",
     "output_type": "stream",
     "text": [
      "['Groucho', 'Chico', 'Gummo', 'Harpo', 'Zeppo']\n"
     ]
    }
   ],
   "source": [
    "marxes = ['Groucho', 'Chico']\n",
    "\n",
    "marxes.insert(2, 'Zeppo')\n",
    "marxes.insert(2, 'Gummo')\n",
    "marxes.insert(3, 'Harpo')\n",
    "\n",
    "print(marxes)"
   ]
  },
  {
   "cell_type": "code",
   "execution_count": 106,
   "id": "0f493870",
   "metadata": {},
   "outputs": [
    {
     "data": {
      "text/plain": [
       "['Groucho', 'Chico', 'Wanda']"
      ]
     },
     "execution_count": 106,
     "metadata": {},
     "output_type": "execute_result"
    }
   ],
   "source": [
    "marxes = ['Groucho', 'Chico', 'Harpo']\n",
    "marxes[2] = 'Wanda'\n",
    "marxes"
   ]
  },
  {
   "cell_type": "code",
   "execution_count": 108,
   "id": "d2b66b1c",
   "metadata": {},
   "outputs": [
    {
     "data": {
      "text/plain": [
       "'Harry * Hermione * Ron'"
      ]
     },
     "execution_count": 108,
     "metadata": {},
     "output_type": "execute_result"
    }
   ],
   "source": [
    "friends = ['Harry', 'Hermione', 'Ron']\n",
    "separator = ' * '\n",
    "joined = separator.join(friends)\n",
    "joined"
   ]
  },
  {
   "cell_type": "code",
   "execution_count": 112,
   "id": "72f2b813",
   "metadata": {},
   "outputs": [
    {
     "data": {
      "text/plain": [
       "['Harry', 'Hermione', 'Ron']"
      ]
     },
     "execution_count": 112,
     "metadata": {},
     "output_type": "execute_result"
    }
   ],
   "source": [
    "separated = joined.split(separator)\n",
    "separated"
   ]
  },
  {
   "cell_type": "code",
   "execution_count": 113,
   "id": "8ba32b59",
   "metadata": {},
   "outputs": [
    {
     "data": {
      "text/plain": [
       "True"
      ]
     },
     "execution_count": 113,
     "metadata": {},
     "output_type": "execute_result"
    }
   ],
   "source": [
    "separated == friends"
   ]
  }
 ],
 "metadata": {
  "kernelspec": {
   "display_name": "Python 3",
   "language": "python",
   "name": "python3"
  },
  "language_info": {
   "codemirror_mode": {
    "name": "ipython",
    "version": 3
   },
   "file_extension": ".py",
   "mimetype": "text/x-python",
   "name": "python",
   "nbconvert_exporter": "python",
   "pygments_lexer": "ipython3",
   "version": "3.8.8"
  }
 },
 "nbformat": 4,
 "nbformat_minor": 5
}
