{
 "cells": [
  {
   "cell_type": "code",
   "execution_count": 8,
   "source": [
    "print(\"5 % 3 =\", 5%3)"
   ],
   "outputs": [
    {
     "output_type": "stream",
     "name": "stdout",
     "text": [
      "5 % 3 = 2\n"
     ]
    }
   ],
   "metadata": {}
  },
  {
   "cell_type": "code",
   "execution_count": 29,
   "source": [
    "print('행복한 토끼가 모두에게 \\'안녕하세요\\'라고 말했습니다.')"
   ],
   "outputs": [
    {
     "output_type": "stream",
     "name": "stdout",
     "text": [
      "행복한 토끼가 모두에게 '안녕하세요'라고 말했습니다.\n"
     ]
    }
   ],
   "metadata": {}
  },
  {
   "cell_type": "code",
   "execution_count": 23,
   "source": [
    "string_hello = \"안녕하세요\"\r\n",
    "print(type(string_hello))"
   ],
   "outputs": [
    {
     "output_type": "stream",
     "name": "stdout",
     "text": [
      "<class 'str'>\n"
     ]
    }
   ],
   "metadata": {}
  },
  {
   "cell_type": "code",
   "execution_count": 44,
   "source": [
    "print(\"안녕하세요\"[:2])"
   ],
   "outputs": [
    {
     "output_type": "stream",
     "name": "stdout",
     "text": [
      "안녕\n"
     ]
    }
   ],
   "metadata": {}
  },
  {
   "cell_type": "code",
   "execution_count": 1,
   "source": [
    "file=\"20210922-163313.jpg\"\r\n",
    "print(\"촬영날짜: \", file[0:4]+\"년\", file[4:6]+\"월\", file[6:8]+\"일\")\r\n",
    "print(\"촬영시간: \", file[9:11]+\"시\", file[11:13]+\"분\", file[13:15]+\"초\")\r\n",
    "print(\"파일형식: \", file[15:19])"
   ],
   "outputs": [
    {
     "output_type": "stream",
     "name": "stdout",
     "text": [
      "촬영날짜:  2021년 09월 22일\n",
      "촬영시간:  16시 33분 13초\n",
      "파일형식:  .jpg\n"
     ]
    }
   ],
   "metadata": {}
  },
  {
   "cell_type": "code",
   "execution_count": 2,
   "source": [
    "color = \"mavve\"\r\n",
    "\r\n",
    "color == \"red\""
   ],
   "outputs": [
    {
     "output_type": "execute_result",
     "data": {
      "text/plain": [
       "False"
      ]
     },
     "metadata": {},
     "execution_count": 2
    }
   ],
   "metadata": {}
  },
  {
   "cell_type": "code",
   "execution_count": 3,
   "source": [
    "vowels='aeiou'\r\n",
    "letter ='o'\r\n",
    "letter in vowels"
   ],
   "outputs": [
    {
     "output_type": "execute_result",
     "data": {
      "text/plain": [
       "True"
      ]
     },
     "metadata": {},
     "execution_count": 3
    }
   ],
   "metadata": {}
  },
  {
   "cell_type": "code",
   "execution_count": 4,
   "source": [
    "if letter in vowels:\r\n",
    "    print(letter, 'is a vower')"
   ],
   "outputs": [
    {
     "output_type": "stream",
     "name": "stdout",
     "text": [
      "o is a vower\n"
     ]
    }
   ],
   "metadata": {}
  },
  {
   "cell_type": "code",
   "execution_count": 5,
   "source": [
    "letter = 'o'\r\n",
    "vowel_set = {'a', 'e', 'i', 'o', 'u'}\r\n",
    "letter in vowel_set"
   ],
   "outputs": [
    {
     "output_type": "execute_result",
     "data": {
      "text/plain": [
       "True"
      ]
     },
     "metadata": {},
     "execution_count": 5
    }
   ],
   "metadata": {}
  },
  {
   "cell_type": "code",
   "execution_count": 16,
   "source": [
    "vowel_list = ['a', 'e', 'i', 'o', 'u']\r\n",
    "letter in vowel_list"
   ],
   "outputs": [
    {
     "output_type": "execute_result",
     "data": {
      "text/plain": [
       "True"
      ]
     },
     "metadata": {},
     "execution_count": 16
    }
   ],
   "metadata": {}
  },
  {
   "cell_type": "code",
   "execution_count": 17,
   "source": [
    "vowel_tuple = ('a', 'e', 'i', 'o', 'u')\r\n",
    "letter in vowel_tuple"
   ],
   "outputs": [
    {
     "output_type": "execute_result",
     "data": {
      "text/plain": [
       "True"
      ]
     },
     "metadata": {},
     "execution_count": 17
    }
   ],
   "metadata": {}
  },
  {
   "cell_type": "code",
   "execution_count": 18,
   "source": [
    "vowel_string = \"aeiou\"\r\n",
    "letter in vowel_string"
   ],
   "outputs": [
    {
     "output_type": "execute_result",
     "data": {
      "text/plain": [
       "True"
      ]
     },
     "metadata": {},
     "execution_count": 18
    }
   ],
   "metadata": {}
  },
  {
   "cell_type": "code",
   "execution_count": 19,
   "source": [
    "vowel_dict = {'a' : 'apple', 'e' : 'elephant', 'i':'impala', 'o':'ocelot', 'u':'unicorn'}\r\n",
    "letter in vowel_dict"
   ],
   "outputs": [
    {
     "output_type": "execute_result",
     "data": {
      "text/plain": [
       "True"
      ]
     },
     "metadata": {},
     "execution_count": 19
    }
   ],
   "metadata": {}
  },
  {
   "cell_type": "code",
   "execution_count": 24,
   "source": [
    "string = '''Cos ah ah I'm in the stars tonight\r\n",
    "So watch me bring the fire and set the night alight\r\n",
    "Shoes on get up in the morn\r\n",
    "Cup of milk let's rock and roll\r\n",
    "King Kong kick the drum rolling on like a rolling stone\r\n",
    "Sing song when I'm walking home\r\n",
    "Jump up to the top LeBron\r\n",
    "Ding dong call me on my phone\r\n",
    "Ice tea and a game of ping pong\r\n",
    "This is getting heavy\r\n",
    "Can you hear the bass boom, I'm ready\r\n",
    "Life is sweet as honey\r\n",
    "Yeah this beat cha ching like money\r\n",
    "Disco overload I'm into that I'm good to go\r\n",
    "I'm diamond you know I glow up\r\n",
    "Hey, so let's go\r\n",
    "Cos ah ah I'm in the stars tonight\r\n",
    "So watch me bring the fire and set the night alight\r\n",
    "Shining through the city with a little funk and soul\r\n",
    "So I'mma light it up like dynamite, woah\r\n",
    "Bring a friend join the crowd\r\n",
    "Whoever wanna come along\r\n",
    "Word up talk the talk just move like we off the wall\r\n",
    "Day or night the sky's alight\r\n",
    "So we dance to the break of dawn\r\n",
    "Ladies and gentlemen,\r\n",
    "I got the medicine so you should keep ya eyes on the ball, huh\r\n",
    "This is getting heavy\r\n",
    "Can you hear the bass boom, I'm ready\r\n",
    "Life is sweet as honey\r\n",
    "Yeah this beat cha ching like money\r\n",
    "Disco overload I'm into that I'm good to go\r\n",
    "I'm diamond you know I glow up\r\n",
    "Let's go\r\n",
    "Cos ah ah I'm in the stars tonight\r\n",
    "So watch me bring the fire and set the night alight\r\n",
    "Shining through the city with a little funk and soul\r\n",
    "So I'mma light it up like dynamite, woah\r\n",
    "Dynnnnnanana, life is dynamite\r\n",
    "Dynnnnnanana, life is dynamite\r\n",
    "Shining through the city with a little funk and soul\r\n",
    "So I'mma light it up like dynamite, woah\r\n",
    "Dynnnnnanana eh\r\n",
    "Dynnnnnanana eh\r\n",
    "Dynnnnnanana eh\r\n",
    "Light it up like dynamite\r\n",
    "Dynnnnnanana eh\r\n",
    "Dynnnnnanana eh\r\n",
    "Dynnnnnanana eh\r\n",
    "Light it up like dynamite\r\n",
    "Cos ah ah I'm in the stars tonight\r\n",
    "So watch me bring the fire and set the night alight\r\n",
    "Shining through the city with a little funk and soul\r\n",
    "So I'mma light it up like dynamite\r\n",
    "Cos ah ah I'm in the stars tonight\r\n",
    "So watch me bring the fire and set the night alight\r\n",
    "Shining through the city with a little funk and soul\r\n",
    "So I'mma light it up like dynamite, woah\r\n",
    "Dynnnnnanana, life is dynamite\r\n",
    "Dynnnnnanana, life is dynamite\r\n",
    "Shining through the city with a little funk and soul\r\n",
    "So I'mma light it up like dynamite, woah'''\r\n",
    "\r\n",
    "SearchWord = \"I'm diamond you know I glow up\"\r\n",
    "\r\n",
    "if ((SearchWord in string) == True):\r\n",
    "    print(SearchWord)"
   ],
   "outputs": [
    {
     "output_type": "stream",
     "name": "stdout",
     "text": [
      "I'm diamond you know I glow up\n"
     ]
    }
   ],
   "metadata": {}
  }
 ],
 "metadata": {
  "kernelspec": {
   "name": "python3",
   "display_name": "Python 3.8.8 64-bit ('base': conda)"
  },
  "language_info": {
   "codemirror_mode": {
    "name": "ipython",
    "version": 3
   },
   "file_extension": ".py",
   "mimetype": "text/x-python",
   "name": "python",
   "nbconvert_exporter": "python",
   "pygments_lexer": "ipython3",
   "version": "3.8.8"
  },
  "interpreter": {
   "hash": "a229e517970244458c9116314281bfc64abe1d66927783454e4dd9154d74451f"
  }
 },
 "nbformat": 4,
 "nbformat_minor": 5
}