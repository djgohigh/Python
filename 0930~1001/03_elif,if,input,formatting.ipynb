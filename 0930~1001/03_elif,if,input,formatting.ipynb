{
 "cells": [
  {
   "cell_type": "code",
   "execution_count": null,
   "source": [
    "secret = input('1~10사이의 숫자를 선택')\r\n",
    "guess = input('1~1"
   ],
   "outputs": [],
   "metadata": {}
  },
  {
   "cell_type": "code",
   "execution_count": null,
   "source": [
    "0사이의 다른 숫자를 선택')\r\n",
    "\r\n",
    "if (secret > guess):\r\n",
    "    print('too high')\r\n",
    "elif (secret < guess):\r\n",
    "    print('too low')\r\n",
    "else:\r\n",
    "    print('just right')"
   ],
   "outputs": [],
   "metadata": {}
  },
  {
   "cell_type": "code",
   "execution_count": null,
   "source": [
    "small = input('1 혹은 엔터를 치세요')\r\n",
    "green = input('1 혹은 엔터를 치세요')\r\n",
    "\r\n",
    "print(type(small))\r\n",
    "\r\n",
    "if small == '1' :\r\n",
    "    if green == '1' :\r\n",
    "        print(\"완두콩은 작고 녹색이다.\")\r\n",
    "    elif green == '' :\r\n",
    "        print(\"체리는 작고 녹색이 아니다\")\r\n",
    "elif small == '' :\r\n",
    "    if green == '1' :\r\n",
    "        print(\"수박은 크고 녹색이다\")\r\n",
    "    elif green == '' :\r\n",
    "        print(\"호박은 크고 녹색이 아니다\")"
   ],
   "outputs": [],
   "metadata": {}
  },
  {
   "cell_type": "code",
   "execution_count": 1,
   "source": [
    "start = \"na\" * 4 + '\\n'\r\n",
    "print(start)"
   ],
   "outputs": [
    {
     "output_type": "stream",
     "name": "stdout",
     "text": [
      "nananana\n",
      "\n"
     ]
    }
   ],
   "metadata": {}
  },
  {
   "cell_type": "code",
   "execution_count": 3,
   "source": [
    "thing = 'woodchuck'\r\n",
    "place = 'lake'\r\n",
    "'The {} is in the {}.'. format(thing, place)"
   ],
   "outputs": [
    {
     "output_type": "execute_result",
     "data": {
      "text/plain": [
       "'The woodchuck is in the lake.'"
      ]
     },
     "metadata": {},
     "execution_count": 3
    }
   ],
   "metadata": {}
  },
  {
   "cell_type": "code",
   "execution_count": 5,
   "source": [
    "'The {1} is in the {0}.'.format(place, thing)"
   ],
   "outputs": [
    {
     "output_type": "execute_result",
     "data": {
      "text/plain": [
       "'The woodchuck is in the lake.'"
      ]
     },
     "metadata": {},
     "execution_count": 5
    }
   ],
   "metadata": {}
  },
  {
   "cell_type": "code",
   "execution_count": 13,
   "source": [
    "thing = 'wereduck'\r\n",
    "place = 'werepond'\r\n",
    "f'The {thing} is in the {place}'"
   ],
   "outputs": [
    {
     "output_type": "execute_result",
     "data": {
      "text/plain": [
       "'The wereduck is in the werepond'"
      ]
     },
     "metadata": {},
     "execution_count": 13
    }
   ],
   "metadata": {}
  },
  {
   "cell_type": "code",
   "execution_count": 20,
   "source": [
    "print('My kitty cat likes ' + '%s' % 'roast beef')\r\n",
    "print('My kitty cat likes ' + '%s' % 'ham')\r\n",
    "print('My kitty cat fell on his' + '%s' % ' head' + \" And now thinks he's a\" + '%s' % ' clam')"
   ],
   "outputs": [
    {
     "output_type": "stream",
     "name": "stdout",
     "text": [
      "My kitty cat likes roast beef\n",
      "My kitty cat likes ham\n",
      "My kitty cat fell on his head And now thinks he's a clam\n"
     ]
    }
   ],
   "metadata": {}
  },
  {
   "cell_type": "code",
   "execution_count": 382,
   "source": [
    "print(('%s' + 'y Mc' + '%s' + 'face') % ('Duck', 'Duck'))\r\n",
    "print(('%s' + 'y Mc' + '%s' + 'face') % ('Horse', 'Horse'))\r\n",
    "print(('%s' + 'y Mc' + '%s' + 'face') % ('Train', 'Train'))"
   ],
   "outputs": [
    {
     "output_type": "stream",
     "name": "stdout",
     "text": [
      "Ducky McDuckface\n",
      "Horsey McHorseface\n",
      "Trainy McTrainface\n"
     ]
    }
   ],
   "metadata": {}
  },
  {
   "cell_type": "code",
   "execution_count": 18,
   "source": [
    "name1 = 'Duck'\n",
    "name2 = 'Horse'\n",
    "name3 = 'Train'\n",
    "\n",
    "string1 = '{0}y Mc{0}face'.format(name1)\n",
    "string2 = '{0}y Mc{0}face'.format(name2)\n",
    "string3 = '{0}y Mc{0}face'.format(name3)\n",
    "\n",
    "print(string1)\n",
    "print(string2)\n",
    "print(string3)"
   ],
   "outputs": [
    {
     "output_type": "stream",
     "name": "stdout",
     "text": [
      "Ducky McDuckface\n",
      "Horsey McHorseface\n",
      "Trainy McTrainface\n"
     ]
    }
   ],
   "metadata": {}
  },
  {
   "cell_type": "code",
   "execution_count": 19,
   "source": [
    "a = 'Duck'\n",
    "b = 'Horse'\n",
    "c = 'Train'\n",
    "\n",
    "string1 = f'{a}y Mc{a}face'\n",
    "string2 = f'{b}y Mc{b}face'\n",
    "string3 = f'{c}y Mc{c}face'\n",
    "\n",
    "print(string1)\n",
    "print(string2)\n",
    "print(string3)"
   ],
   "outputs": [
    {
     "output_type": "stream",
     "name": "stdout",
     "text": [
      "Ducky McDuckface\n",
      "Horsey McHorseface\n",
      "Trainy McTrainface\n"
     ]
    }
   ],
   "metadata": {}
  }
 ],
 "metadata": {
  "kernelspec": {
   "display_name": "Python 3",
   "language": "python",
   "name": "python3"
  },
  "language_info": {
   "codemirror_mode": {
    "name": "ipython",
    "version": 3
   },
   "file_extension": ".py",
   "mimetype": "text/x-python",
   "name": "python",
   "nbconvert_exporter": "python",
   "pygments_lexer": "ipython3",
   "version": "3.8.8"
  }
 },
 "nbformat": 4,
 "nbformat_minor": 5
}