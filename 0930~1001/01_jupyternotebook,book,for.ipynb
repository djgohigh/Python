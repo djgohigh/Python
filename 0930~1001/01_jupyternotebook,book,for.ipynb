{
 "cells": [
  {
   "cell_type": "code",
   "execution_count": 4,
   "id": "a21794a7",
   "metadata": {},
   "outputs": [
    {
     "name": "stdout",
     "output_type": "stream",
     "text": [
      "3.8.8 (default, Apr 13 2021, 15:08:03) [MSC v.1916 64 bit (AMD64)]\n"
     ]
    }
   ],
   "source": [
    "import sys\n",
    "print(sys.version)"
   ]
  },
  {
   "cell_type": "code",
   "execution_count": 16,
   "id": "e5a3ff17",
   "metadata": {},
   "outputs": [
    {
     "name": "stdout",
     "output_type": "stream",
     "text": [
      "3.8.8\n"
     ]
    }
   ],
   "source": [
    "import platform\n",
    "print(platform.python_version())"
   ]
  },
  {
   "cell_type": "code",
   "execution_count": 58,
   "id": "d3d96e4f",
   "metadata": {
    "scrolled": false
   },
   "outputs": [
    {
     "name": "stdout",
     "output_type": "stream",
     "text": [
      "True\n",
      "False\n",
      "True\n",
      "False\n",
      "0\n",
      "True\n",
      "False\n",
      "null\n",
      "1\n",
      "True\n",
      "False\n",
      "null\n",
      "2\n",
      "True\n",
      "False\n",
      "null\n",
      "3\n",
      "True\n",
      "False\n",
      "null\n",
      "4\n",
      "True\n",
      "False\n",
      "null\n"
     ]
    }
   ],
   "source": [
    "print(True)\n",
    "print(False)\n",
    "print(bool(1))\n",
    "print(bool(0))\n",
    "\n",
    "for i in range(5) :\n",
    "#     0~부터 4까지만 실행이 된다\n",
    "    print(i)\n",
    "    print(bool(1))\n",
    "    print(bool(0))\n",
    "    print(\"null\")\n"
   ]
  },
  {
   "cell_type": "code",
   "execution_count": 61,
   "id": "b93df302",
   "metadata": {
    "scrolled": true
   },
   "outputs": [
    {
     "name": "stdout",
     "output_type": "stream",
     "text": [
      "['False', 'None', 'True', 'and', 'as', 'assert', 'async', 'await', 'break', 'class', 'continue', 'def', 'del', 'elif', 'else', 'except', 'finally', 'for', 'from', 'global', 'if', 'import', 'in', 'is', 'lambda', 'nonlocal', 'not', 'or', 'pass', 'raise', 'return', 'try', 'while', 'with', 'yield']\n"
     ]
    }
   ],
   "source": [
    "import keyword\n",
    "print(keyword.kwlist)"
   ]
  },
  {
   "cell_type": "code",
   "execution_count": 65,
   "id": "df49830a",
   "metadata": {
    "scrolled": true
   },
   "outputs": [
    {
     "name": "stdout",
     "output_type": "stream",
     "text": [
      "0\n",
      "0\n",
      "1\n",
      "0\n",
      "2\n",
      "0\n",
      "3\n",
      "0\n",
      "4\n",
      "0\n",
      "0\n",
      "1\n",
      "1\n",
      "1\n",
      "2\n",
      "1\n",
      "3\n",
      "1\n",
      "4\n",
      "1\n",
      "0\n",
      "2\n",
      "1\n",
      "2\n",
      "2\n",
      "2\n",
      "3\n",
      "2\n",
      "4\n",
      "2\n",
      "0\n",
      "3\n",
      "1\n",
      "3\n",
      "2\n",
      "3\n",
      "3\n",
      "3\n",
      "4\n",
      "3\n",
      "0\n",
      "4\n",
      "1\n",
      "4\n",
      "2\n",
      "4\n",
      "3\n",
      "4\n",
      "4\n",
      "4\n",
      "0\n",
      "5\n",
      "1\n",
      "5\n",
      "2\n",
      "5\n",
      "3\n",
      "5\n",
      "4\n",
      "5\n",
      "0\n",
      "6\n",
      "1\n",
      "6\n",
      "2\n",
      "6\n",
      "3\n",
      "6\n",
      "4\n",
      "6\n",
      "0\n",
      "7\n",
      "1\n",
      "7\n",
      "2\n",
      "7\n",
      "3\n",
      "7\n",
      "4\n",
      "7\n",
      "0\n",
      "8\n",
      "1\n",
      "8\n",
      "2\n",
      "8\n",
      "3\n",
      "8\n",
      "4\n",
      "8\n",
      "0\n",
      "9\n",
      "1\n",
      "9\n",
      "2\n",
      "9\n",
      "3\n",
      "9\n",
      "4\n",
      "9\n"
     ]
    }
   ],
   "source": [
    "for i in range(10)  :\n",
    "    for j in range(5) : \n",
    "        print(j)\n",
    "        print(i)"
   ]
  },
  {
   "cell_type": "code",
   "execution_count": 72,
   "id": "b9d25a8b",
   "metadata": {},
   "outputs": [
    {
     "name": "stdout",
     "output_type": "stream",
     "text": [
      "\n",
      "개발자 : 김동진\n",
      "개발일 : 2021년 9월 29일\n",
      "수정사항 : 입력모듈 수정\n",
      "\n",
      "<class 'str'>\n"
     ]
    }
   ],
   "source": [
    "# 한줄짜리 주석이야\n",
    "a = '''\n",
    "개발자 : 김동진\n",
    "개발일 : 2021년 9월 29일\n",
    "수정사항 : 입력모듈 수정\n",
    "'''\n",
    "\n",
    "print(a)\n",
    "print(type(a))"
   ]
  },
  {
   "cell_type": "code",
   "execution_count": 76,
   "id": "57f89899",
   "metadata": {},
   "outputs": [
    {
     "name": "stdout",
     "output_type": "stream",
     "text": [
      "1\n",
      "2\n",
      "3\n"
     ]
    }
   ],
   "source": [
    "a, b, c = 1, 2, 3\n",
    "\n",
    "print (a)\n",
    "print (b)\n",
    "print (c)"
   ]
  },
  {
   "cell_type": "code",
   "execution_count": 230,
   "id": "15e0a99e",
   "metadata": {},
   "outputs": [
    {
     "name": "stdout",
     "output_type": "stream",
     "text": [
      "20\n",
      "10\n"
     ]
    }
   ],
   "source": [
    "a, b = b, a\n",
    "\n",
    "print(a)\n",
    "print(b)"
   ]
  },
  {
   "cell_type": "code",
   "execution_count": 232,
   "id": "13c1d235",
   "metadata": {},
   "outputs": [
    {
     "name": "stdout",
     "output_type": "stream",
     "text": [
      "안녕하세요!\n",
      "\n",
      "오늘은 즐거운 월요일 입니다.\n"
     ]
    }
   ],
   "source": [
    "print(\"안녕하세요!\")\n",
    "print()\n",
    "print(\"오늘은 즐거운 월요일 입니다.\")"
   ]
  },
  {
   "cell_type": "code",
   "execution_count": 233,
   "id": "009b72b9",
   "metadata": {},
   "outputs": [
    {
     "name": "stdout",
     "output_type": "stream",
     "text": [
      "dfdfdfd\n",
      "dfdfdfd\n"
     ]
    }
   ],
   "source": [
    "b = input()\n",
    "print(b)"
   ]
  },
  {
   "cell_type": "code",
   "execution_count": 237,
   "id": "d6c4c743",
   "metadata": {},
   "outputs": [
    {
     "name": "stdout",
     "output_type": "stream",
     "text": [
      "a = 10 b = 5.5 print(b)\n",
      "<class 'str'>\n"
     ]
    }
   ],
   "source": [
    "aa = input()\n",
    "print(type(aa))"
   ]
  },
  {
   "cell_type": "code",
   "execution_count": 241,
   "id": "2c1af171",
   "metadata": {},
   "outputs": [
    {
     "name": "stdout",
     "output_type": "stream",
     "text": [
      "None\n",
      "1\n"
     ]
    }
   ],
   "source": [
    "ee = None\n",
    "print(ee)\n",
    "ee = 1\n",
    "print(ee)\n"
   ]
  },
  {
   "cell_type": "code",
   "execution_count": 243,
   "id": "4de02835",
   "metadata": {},
   "outputs": [
    {
     "name": "stdout",
     "output_type": "stream",
     "text": [
      "99\n"
     ]
    }
   ],
   "source": [
    "prince = 99\n",
    "print(prince)"
   ]
  },
  {
   "cell_type": "code",
   "execution_count": 245,
   "id": "b2c7786d",
   "metadata": {
    "scrolled": false
   },
   "outputs": [
    {
     "data": {
      "text/plain": [
       "int"
      ]
     },
     "execution_count": 245,
     "metadata": {},
     "output_type": "execute_result"
    }
   ],
   "source": [
    "type(5)"
   ]
  },
  {
   "cell_type": "code",
   "execution_count": 248,
   "id": "0c280bc3",
   "metadata": {},
   "outputs": [
    {
     "data": {
      "text/plain": [
       "float"
      ]
     },
     "execution_count": 248,
     "metadata": {},
     "output_type": "execute_result"
    }
   ],
   "source": [
    "type(2.0)"
   ]
  },
  {
   "cell_type": "code",
   "execution_count": 250,
   "id": "24fb6740",
   "metadata": {},
   "outputs": [
    {
     "data": {
      "text/plain": [
       "float"
      ]
     },
     "execution_count": 250,
     "metadata": {},
     "output_type": "execute_result"
    }
   ],
   "source": [
    "type(5+2.0)"
   ]
  },
  {
   "cell_type": "code",
   "execution_count": 261,
   "id": "6bc135f2",
   "metadata": {},
   "outputs": [
    {
     "name": "stdout",
     "output_type": "stream",
     "text": [
      "3600\n"
     ]
    }
   ],
   "source": [
    "m = 60\n",
    "s = 60\n",
    "print(m * s)"
   ]
  },
  {
   "cell_type": "code",
   "execution_count": 263,
   "id": "0a15d5d4",
   "metadata": {},
   "outputs": [],
   "source": [
    "seconds_per_hour = m*s"
   ]
  },
  {
   "cell_type": "code",
   "execution_count": 266,
   "id": "797527b0",
   "metadata": {},
   "outputs": [
    {
     "name": "stdout",
     "output_type": "stream",
     "text": [
      "86400\n"
     ]
    }
   ],
   "source": [
    "day = 24\n",
    "print(seconds_per_hour * day)"
   ]
  },
  {
   "cell_type": "code",
   "execution_count": 268,
   "id": "07727340",
   "metadata": {},
   "outputs": [],
   "source": [
    "seconds_per_day = seconds_per_hour * day"
   ]
  },
  {
   "cell_type": "code",
   "execution_count": 270,
   "id": "5c178f72",
   "metadata": {},
   "outputs": [
    {
     "name": "stdout",
     "output_type": "stream",
     "text": [
      "24.0\n"
     ]
    }
   ],
   "source": [
    "print(seconds_per_day / seconds_per_hour)"
   ]
  },
  {
   "cell_type": "code",
   "execution_count": 272,
   "id": "7c2029f6",
   "metadata": {},
   "outputs": [
    {
     "name": "stdout",
     "output_type": "stream",
     "text": [
      "24\n"
     ]
    }
   ],
   "source": [
    "print(seconds_per_day // seconds_per_hour)"
   ]
  }
 ],
 "metadata": {
  "kernelspec": {
   "display_name": "Python 3",
   "language": "python",
   "name": "python3"
  },
  "language_info": {
   "codemirror_mode": {
    "name": "ipython",
    "version": 3
   },
   "file_extension": ".py",
   "mimetype": "text/x-python",
   "name": "python",
   "nbconvert_exporter": "python",
   "pygments_lexer": "ipython3",
   "version": "3.8.8"
  }
 },
 "nbformat": 4,
 "nbformat_minor": 5
}
