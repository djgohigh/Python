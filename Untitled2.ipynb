{
 "cells": [
  {
   "cell_type": "code",
   "execution_count": null,
   "id": "2617d6c3",
   "metadata": {},
   "outputs": [],
   "source": [
    "secret = input('1~10사이의 숫자를 선택')\n",
    "guess = input('1~10사이의 다른 숫자를 선택')\n",
    "\n",
    "if (secret > guess):\n",
    "    print('too high')\n",
    "elif (secret < guess):\n",
    "    print('too low')\n",
    "else:\n",
    "    print('just right')"
   ]
  },
  {
   "cell_type": "code",
   "execution_count": null,
   "id": "16cd4116",
   "metadata": {},
   "outputs": [],
   "source": [
    "small = input('1 혹은 엔터를 치세요')\n",
    "green = input('1 혹은 엔터를 치세요')\n",
    "\n",
    "print(type(small))\n",
    "\n",
    "if small == '1' :\n",
    "    if green == '1' :\n",
    "        print(\"완두콩은 작고 녹색이다.\")\n",
    "    elif green == '' :\n",
    "        print(\"체리는 작고 녹색이 아니다\")\n",
    "elif small == '' :\n",
    "    if green == '1' :\n",
    "        print(\"수박은 크고 녹색이다\")\n",
    "    elif green == '' :\n",
    "        print(\"호박은 크고 녹색이 아니다\")"
   ]
  },
  {
   "cell_type": "code",
   "execution_count": 1,
   "id": "e58bcebf",
   "metadata": {},
   "outputs": [
    {
     "name": "stdout",
     "output_type": "stream",
     "text": [
      "nananana\n",
      "\n"
     ]
    }
   ],
   "source": [
    "start = \"na\" * 4 + '\\n'\n",
    "print(start)"
   ]
  },
  {
   "cell_type": "code",
   "execution_count": 3,
   "id": "332a80a9",
   "metadata": {},
   "outputs": [
    {
     "data": {
      "text/plain": [
       "'The woodchuck is in the lake.'"
      ]
     },
     "execution_count": 3,
     "metadata": {},
     "output_type": "execute_result"
    }
   ],
   "source": [
    "thing = 'woodchuck'\n",
    "place = 'lake'\n",
    "'The {} is in the {}.'. format(thing, place)"
   ]
  },
  {
   "cell_type": "code",
   "execution_count": 5,
   "id": "73c2b09e",
   "metadata": {},
   "outputs": [
    {
     "data": {
      "text/plain": [
       "'The woodchuck is in the lake.'"
      ]
     },
     "execution_count": 5,
     "metadata": {},
     "output_type": "execute_result"
    }
   ],
   "source": [
    "'The {1} is in the {0}.'.format(place, thing)"
   ]
  },
  {
   "cell_type": "code",
   "execution_count": 13,
   "id": "63d4b749",
   "metadata": {},
   "outputs": [
    {
     "data": {
      "text/plain": [
       "'The wereduck is in the werepond'"
      ]
     },
     "execution_count": 13,
     "metadata": {},
     "output_type": "execute_result"
    }
   ],
   "source": [
    "thing = 'wereduck'\n",
    "place = 'werepond'\n",
    "f'The {thing} is in the {place}'"
   ]
  },
  {
   "cell_type": "code",
   "execution_count": 20,
   "id": "881d3f5b",
   "metadata": {},
   "outputs": [
    {
     "name": "stdout",
     "output_type": "stream",
     "text": [
      "My kitty cat likes roast beef\n",
      "My kitty cat likes ham\n",
      "My kitty cat fell on his head And now thinks he's a clam\n"
     ]
    }
   ],
   "source": [
    "print('My kitty cat likes ' + '%s' % 'roast beef')\n",
    "print('My kitty cat likes ' + '%s' % 'ham')\n",
    "print('My kitty cat fell on his' + '%s' % ' head' + \" And now thinks he's a\" + '%s' % ' clam')"
   ]
  },
  {
   "cell_type": "code",
   "execution_count": 382,
   "id": "e75532cc",
   "metadata": {},
   "outputs": [
    {
     "name": "stdout",
     "output_type": "stream",
     "text": [
      "Ducky McDuckface\n",
      "Horsey McHorseface\n",
      "Trainy McTrainface\n"
     ]
    }
   ],
   "source": [
    "print(('%s' + 'y Mc' + '%s' + 'face') % ('Duck', 'Duck'))\n",
    "print(('%s' + 'y Mc' + '%s' + 'face') % ('Horse', 'Horse'))\n",
    "print(('%s' + 'y Mc' + '%s' + 'face') % ('Train', 'Train'))"
   ]
  },
  {
   "cell_type": "code",
   "execution_count": 18,
   "id": "3bea1c8c",
   "metadata": {},
   "outputs": [
    {
     "name": "stdout",
     "output_type": "stream",
     "text": [
      "Ducky McDuckface\n",
      "Horsey McHorseface\n",
      "Trainy McTrainface\n"
     ]
    }
   ],
   "source": [
    "name1 = 'Duck'\n",
    "name2 = 'Horse'\n",
    "name3 = 'Train'\n",
    "\n",
    "string1 = '{0}y Mc{0}face'.format(name1)\n",
    "string2 = '{0}y Mc{0}face'.format(name2)\n",
    "string3 = '{0}y Mc{0}face'.format(name3)\n",
    "\n",
    "print(string1)\n",
    "print(string2)\n",
    "print(string3)"
   ]
  },
  {
   "cell_type": "code",
   "execution_count": 19,
   "id": "837754dd",
   "metadata": {},
   "outputs": [
    {
     "name": "stdout",
     "output_type": "stream",
     "text": [
      "Ducky McDuckface\n",
      "Horsey McHorseface\n",
      "Trainy McTrainface\n"
     ]
    }
   ],
   "source": [
    "a = 'Duck'\n",
    "b = 'Horse'\n",
    "c = 'Train'\n",
    "\n",
    "string1 = f'{a}y Mc{a}face'\n",
    "string2 = f'{b}y Mc{b}face'\n",
    "string3 = f'{c}y Mc{c}face'\n",
    "\n",
    "print(string1)\n",
    "print(string2)\n",
    "print(string3)"
   ]
  }
 ],
 "metadata": {
  "kernelspec": {
   "display_name": "Python 3",
   "language": "python",
   "name": "python3"
  },
  "language_info": {
   "codemirror_mode": {
    "name": "ipython",
    "version": 3
   },
   "file_extension": ".py",
   "mimetype": "text/x-python",
   "name": "python",
   "nbconvert_exporter": "python",
   "pygments_lexer": "ipython3",
   "version": "3.8.8"
  }
 },
 "nbformat": 4,
 "nbformat_minor": 5
}
